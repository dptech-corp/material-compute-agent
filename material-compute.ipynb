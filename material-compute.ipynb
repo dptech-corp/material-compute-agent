{
 "cells": [
  {
   "cell_type": "markdown",
   "id": "da96d2e9-17aa-4dc9-88a2-0fb65d4e1ad8",
   "metadata": {},
   "source": [
    "# Material compute demo agent\n",
    "\n"
   ]
  },
  {
   "cell_type": "markdown",
   "id": "1adde229",
   "metadata": {},
   "source": [
    "\n",
    "## 目录与步骤指南\n",
    "**该 notebook 仅供展示，如需运行请访问 github 仓库 https://github.com/dptech-corp/material-compute-agent**\n",
    "\n",
    "本 Notebook 展示了一个创新的材料计算代理系统，它利用大型语言模型（LLM）和 CAMEL 多代理框架自动化执行材料科学中的计算任务。系统模拟了真实研究团队的协作过程，包括从文献中提取信息、生成计算输入文件、执行计算、分析结果并生成报告。\n",
    "\n",
    "该系统特别适用于高通量材料筛选和计算材料科学研究，能够显著提高材料发现和优化的效率。通过集成 Bohrium 计算平台和 VASP 计算软件，系统可以执行从密度泛函理论（DFT）计算到热力学性质分析的各种任务。\n",
    "\n",
    "本演示特别关注钙钛矿氧化物材料（如 Sr5Ca3Fe8O24）的计算模拟，这类材料在热化学能量存储（TCES）等领域具有重要应用前景。\n",
    "\n",
    "1. **环境配置**\n",
    "   - 安装依赖包 (`%pip install -e .`)\n",
    "   - 下载并配置 MP 数据集\n",
    "   - 设置 API 密钥 (Bohrium, OpenAI/Azure, DeepSeek)\n",
    "\n",
    "2. **系统初始化**\n",
    "   - 导入必要的库和工具\n",
    "   - 创建模型实例\n",
    "   - 配置代理角色和工具\n",
    "\n",
    "3. **任务执行**\n",
    "   - 启动 MCP 服务 (`python vasp_mcp.py`)\n",
    "   - 连接到 MCP 服务器\n",
    "   - 创建并配置工作流程\n",
    "   - 提交计算任务\n",
    "\n",
    "4. **输入示例**\n",
    "   - 文章路径: test.pdf\n",
    "   - 材料体系: Sr5Ca3Fe8O24\n",
    "   - 参数修改: INCAR 的 NELM = 2\n"
   ]
  },
  {
   "cell_type": "markdown",
   "id": "a033b9b5-8b3a-478f-a86d-6ae853aa1a12",
   "metadata": {},
   "source": [
    "## 配置环境\n",
    "\n",
    "\n",
    "\n"
   ]
  },
  {
   "cell_type": "markdown",
   "id": "b9179b02",
   "metadata": {},
   "source": [
    "### 安装依赖"
   ]
  },
  {
   "cell_type": "code",
   "execution_count": 1,
   "id": "b1b50e46",
   "metadata": {},
   "outputs": [
    {
     "name": "stdout",
     "output_type": "stream",
     "text": [
      "Obtaining file:///Users/lhappy/bohr-science-agent-framework\n",
      "  Preparing metadata (setup.py) ... \u001b[?25ldone\n",
      "\u001b[?25hRequirement already satisfied: numpy in /Users/lhappy/miniconda3/envs/lhappy/lib/python3.12/site-packages (from material-compute-agent==0.1.0) (2.0.0)\n",
      "Requirement already satisfied: scipy in /Users/lhappy/miniconda3/envs/lhappy/lib/python3.12/site-packages (from material-compute-agent==0.1.0) (1.14.1)\n",
      "Requirement already satisfied: pandas>=2.2.2 in /Users/lhappy/miniconda3/envs/lhappy/lib/python3.12/site-packages (from material-compute-agent==0.1.0) (2.2.2)\n",
      "Requirement already satisfied: h5py>=3.12.1 in /Users/lhappy/miniconda3/envs/lhappy/lib/python3.12/site-packages (from material-compute-agent==0.1.0) (3.12.1)\n",
      "Requirement already satisfied: openai in /Users/lhappy/miniconda3/envs/lhappy/lib/python3.12/site-packages (from material-compute-agent==0.1.0) (1.75.0)\n",
      "Requirement already satisfied: docstring_parser in /Users/lhappy/miniconda3/envs/lhappy/lib/python3.12/site-packages (from material-compute-agent==0.1.0) (0.15)\n",
      "Requirement already satisfied: mcp in /Users/lhappy/miniconda3/envs/lhappy/lib/python3.12/site-packages (from material-compute-agent==0.1.0) (1.6.0)\n",
      "Requirement already satisfied: requests_oauthlib in /Users/lhappy/miniconda3/envs/lhappy/lib/python3.12/site-packages (from material-compute-agent==0.1.0) (1.3.1)\n",
      "Requirement already satisfied: pymatgen in /Users/lhappy/miniconda3/envs/lhappy/lib/python3.12/site-packages (from material-compute-agent==0.1.0) (2025.3.10)\n",
      "Requirement already satisfied: PyPDF2 in /Users/lhappy/miniconda3/envs/lhappy/lib/python3.12/site-packages (from material-compute-agent==0.1.0) (3.0.1)\n",
      "Requirement already satisfied: tiktoken in /Users/lhappy/miniconda3/envs/lhappy/lib/python3.12/site-packages (from material-compute-agent==0.1.0) (0.7.0)\n",
      "Requirement already satisfied: sqlalchemy in /Users/lhappy/miniconda3/envs/lhappy/lib/python3.12/site-packages (from material-compute-agent==0.1.0) (2.0.40)\n",
      "Requirement already satisfied: googlemaps in /Users/lhappy/miniconda3/envs/lhappy/lib/python3.12/site-packages (from material-compute-agent==0.1.0) (4.10.0)\n",
      "Requirement already satisfied: colorama in /Users/lhappy/miniconda3/envs/lhappy/lib/python3.12/site-packages (from material-compute-agent==0.1.0) (0.4.6)\n",
      "Requirement already satisfied: python-dateutil>=2.8.2 in /Users/lhappy/miniconda3/envs/lhappy/lib/python3.12/site-packages (from pandas>=2.2.2->material-compute-agent==0.1.0) (2.9.0)\n",
      "Requirement already satisfied: pytz>=2020.1 in /Users/lhappy/miniconda3/envs/lhappy/lib/python3.12/site-packages (from pandas>=2.2.2->material-compute-agent==0.1.0) (2024.1)\n",
      "Requirement already satisfied: tzdata>=2022.7 in /Users/lhappy/miniconda3/envs/lhappy/lib/python3.12/site-packages (from pandas>=2.2.2->material-compute-agent==0.1.0) (2024.1)\n",
      "Requirement already satisfied: requests<3.0,>=2.20.0 in /Users/lhappy/miniconda3/envs/lhappy/lib/python3.12/site-packages (from googlemaps->material-compute-agent==0.1.0) (2.32.3)\n",
      "Requirement already satisfied: anyio>=4.5 in /Users/lhappy/miniconda3/envs/lhappy/lib/python3.12/site-packages (from mcp->material-compute-agent==0.1.0) (4.9.0)\n",
      "Requirement already satisfied: httpx-sse>=0.4 in /Users/lhappy/miniconda3/envs/lhappy/lib/python3.12/site-packages (from mcp->material-compute-agent==0.1.0) (0.4.0)\n",
      "Requirement already satisfied: httpx>=0.27 in /Users/lhappy/miniconda3/envs/lhappy/lib/python3.12/site-packages (from mcp->material-compute-agent==0.1.0) (0.28.1)\n",
      "Requirement already satisfied: pydantic-settings>=2.5.2 in /Users/lhappy/miniconda3/envs/lhappy/lib/python3.12/site-packages (from mcp->material-compute-agent==0.1.0) (2.9.1)\n",
      "Requirement already satisfied: pydantic<3.0.0,>=2.7.2 in /Users/lhappy/miniconda3/envs/lhappy/lib/python3.12/site-packages (from mcp->material-compute-agent==0.1.0) (2.11.3)\n",
      "Requirement already satisfied: sse-starlette>=1.6.1 in /Users/lhappy/miniconda3/envs/lhappy/lib/python3.12/site-packages (from mcp->material-compute-agent==0.1.0) (2.3.3)\n",
      "Requirement already satisfied: starlette>=0.27 in /Users/lhappy/miniconda3/envs/lhappy/lib/python3.12/site-packages (from mcp->material-compute-agent==0.1.0) (0.46.2)\n",
      "Requirement already satisfied: uvicorn>=0.23.1 in /Users/lhappy/miniconda3/envs/lhappy/lib/python3.12/site-packages (from mcp->material-compute-agent==0.1.0) (0.34.2)\n",
      "Requirement already satisfied: distro<2,>=1.7.0 in /Users/lhappy/miniconda3/envs/lhappy/lib/python3.12/site-packages (from openai->material-compute-agent==0.1.0) (1.9.0)\n",
      "Requirement already satisfied: jiter<1,>=0.4.0 in /Users/lhappy/miniconda3/envs/lhappy/lib/python3.12/site-packages (from openai->material-compute-agent==0.1.0) (0.9.0)\n",
      "Requirement already satisfied: sniffio in /Users/lhappy/miniconda3/envs/lhappy/lib/python3.12/site-packages (from openai->material-compute-agent==0.1.0) (1.3.1)\n",
      "Requirement already satisfied: tqdm>4 in /Users/lhappy/miniconda3/envs/lhappy/lib/python3.12/site-packages (from openai->material-compute-agent==0.1.0) (4.67.1)\n",
      "Requirement already satisfied: typing-extensions<5,>=4.11 in /Users/lhappy/miniconda3/envs/lhappy/lib/python3.12/site-packages (from openai->material-compute-agent==0.1.0) (4.13.2)\n",
      "Requirement already satisfied: joblib>=1 in /Users/lhappy/miniconda3/envs/lhappy/lib/python3.12/site-packages (from pymatgen->material-compute-agent==0.1.0) (1.4.2)\n",
      "Requirement already satisfied: matplotlib>=3.8 in /Users/lhappy/miniconda3/envs/lhappy/lib/python3.12/site-packages (from pymatgen->material-compute-agent==0.1.0) (3.9.1)\n",
      "Requirement already satisfied: monty>=2025.1.9 in /Users/lhappy/miniconda3/envs/lhappy/lib/python3.12/site-packages (from pymatgen->material-compute-agent==0.1.0) (2025.3.3)\n",
      "Requirement already satisfied: networkx>=2.7 in /Users/lhappy/miniconda3/envs/lhappy/lib/python3.12/site-packages (from pymatgen->material-compute-agent==0.1.0) (3.4.2)\n",
      "Requirement already satisfied: palettable>=3.3.3 in /Users/lhappy/miniconda3/envs/lhappy/lib/python3.12/site-packages (from pymatgen->material-compute-agent==0.1.0) (3.3.3)\n",
      "Requirement already satisfied: plotly>=5.0.0 in /Users/lhappy/miniconda3/envs/lhappy/lib/python3.12/site-packages (from pymatgen->material-compute-agent==0.1.0) (6.0.1)\n",
      "Requirement already satisfied: pybtex>=0.24.0 in /Users/lhappy/miniconda3/envs/lhappy/lib/python3.12/site-packages (from pymatgen->material-compute-agent==0.1.0) (0.24.0)\n",
      "Requirement already satisfied: ruamel.yaml>=0.17.0 in /Users/lhappy/miniconda3/envs/lhappy/lib/python3.12/site-packages (from pymatgen->material-compute-agent==0.1.0) (0.18.10)\n",
      "Requirement already satisfied: spglib>=2.5 in /Users/lhappy/miniconda3/envs/lhappy/lib/python3.12/site-packages (from pymatgen->material-compute-agent==0.1.0) (2.6.0)\n",
      "Requirement already satisfied: sympy>=1.3 in /Users/lhappy/miniconda3/envs/lhappy/lib/python3.12/site-packages (from pymatgen->material-compute-agent==0.1.0) (1.13.3)\n",
      "Requirement already satisfied: tabulate>=0.9 in /Users/lhappy/miniconda3/envs/lhappy/lib/python3.12/site-packages (from pymatgen->material-compute-agent==0.1.0) (0.9.0)\n",
      "Requirement already satisfied: uncertainties>=3.1.4 in /Users/lhappy/miniconda3/envs/lhappy/lib/python3.12/site-packages (from pymatgen->material-compute-agent==0.1.0) (3.2.2)\n",
      "Requirement already satisfied: oauthlib>=3.0.0 in /Users/lhappy/miniconda3/envs/lhappy/lib/python3.12/site-packages (from requests_oauthlib->material-compute-agent==0.1.0) (3.2.2)\n",
      "Requirement already satisfied: regex>=2022.1.18 in /Users/lhappy/miniconda3/envs/lhappy/lib/python3.12/site-packages (from tiktoken->material-compute-agent==0.1.0) (2024.11.6)\n",
      "Requirement already satisfied: idna>=2.8 in /Users/lhappy/miniconda3/envs/lhappy/lib/python3.12/site-packages (from anyio>=4.5->mcp->material-compute-agent==0.1.0) (3.10)\n",
      "Requirement already satisfied: certifi in /Users/lhappy/miniconda3/envs/lhappy/lib/python3.12/site-packages (from httpx>=0.27->mcp->material-compute-agent==0.1.0) (2025.1.31)\n",
      "Requirement already satisfied: httpcore==1.* in /Users/lhappy/miniconda3/envs/lhappy/lib/python3.12/site-packages (from httpx>=0.27->mcp->material-compute-agent==0.1.0) (1.0.9)\n",
      "Requirement already satisfied: h11>=0.16 in /Users/lhappy/miniconda3/envs/lhappy/lib/python3.12/site-packages (from httpcore==1.*->httpx>=0.27->mcp->material-compute-agent==0.1.0) (0.16.0)\n",
      "Requirement already satisfied: contourpy>=1.0.1 in /Users/lhappy/miniconda3/envs/lhappy/lib/python3.12/site-packages (from matplotlib>=3.8->pymatgen->material-compute-agent==0.1.0) (1.2.1)\n",
      "Requirement already satisfied: cycler>=0.10 in /Users/lhappy/miniconda3/envs/lhappy/lib/python3.12/site-packages (from matplotlib>=3.8->pymatgen->material-compute-agent==0.1.0) (0.12.1)\n",
      "Requirement already satisfied: fonttools>=4.22.0 in /Users/lhappy/miniconda3/envs/lhappy/lib/python3.12/site-packages (from matplotlib>=3.8->pymatgen->material-compute-agent==0.1.0) (4.53.0)\n",
      "Requirement already satisfied: kiwisolver>=1.3.1 in /Users/lhappy/miniconda3/envs/lhappy/lib/python3.12/site-packages (from matplotlib>=3.8->pymatgen->material-compute-agent==0.1.0) (1.4.5)\n",
      "Requirement already satisfied: packaging>=20.0 in /Users/lhappy/miniconda3/envs/lhappy/lib/python3.12/site-packages (from matplotlib>=3.8->pymatgen->material-compute-agent==0.1.0) (24.1)\n",
      "Requirement already satisfied: pillow>=8 in /Users/lhappy/miniconda3/envs/lhappy/lib/python3.12/site-packages (from matplotlib>=3.8->pymatgen->material-compute-agent==0.1.0) (10.4.0)\n",
      "Requirement already satisfied: pyparsing>=2.3.1 in /Users/lhappy/miniconda3/envs/lhappy/lib/python3.12/site-packages (from matplotlib>=3.8->pymatgen->material-compute-agent==0.1.0) (3.1.2)\n",
      "Requirement already satisfied: narwhals>=1.15.1 in /Users/lhappy/miniconda3/envs/lhappy/lib/python3.12/site-packages (from plotly>=5.0.0->pymatgen->material-compute-agent==0.1.0) (1.19.1)\n",
      "Requirement already satisfied: PyYAML>=3.01 in /Users/lhappy/miniconda3/envs/lhappy/lib/python3.12/site-packages (from pybtex>=0.24.0->pymatgen->material-compute-agent==0.1.0) (6.0.2)\n",
      "Requirement already satisfied: latexcodec>=1.0.4 in /Users/lhappy/miniconda3/envs/lhappy/lib/python3.12/site-packages (from pybtex>=0.24.0->pymatgen->material-compute-agent==0.1.0) (3.0.0)\n",
      "Requirement already satisfied: six in /Users/lhappy/miniconda3/envs/lhappy/lib/python3.12/site-packages (from pybtex>=0.24.0->pymatgen->material-compute-agent==0.1.0) (1.16.0)\n",
      "Requirement already satisfied: annotated-types>=0.6.0 in /Users/lhappy/miniconda3/envs/lhappy/lib/python3.12/site-packages (from pydantic<3.0.0,>=2.7.2->mcp->material-compute-agent==0.1.0) (0.7.0)\n",
      "Requirement already satisfied: pydantic-core==2.33.1 in /Users/lhappy/miniconda3/envs/lhappy/lib/python3.12/site-packages (from pydantic<3.0.0,>=2.7.2->mcp->material-compute-agent==0.1.0) (2.33.1)\n",
      "Requirement already satisfied: typing-inspection>=0.4.0 in /Users/lhappy/miniconda3/envs/lhappy/lib/python3.12/site-packages (from pydantic<3.0.0,>=2.7.2->mcp->material-compute-agent==0.1.0) (0.4.0)\n",
      "Requirement already satisfied: python-dotenv>=0.21.0 in /Users/lhappy/miniconda3/envs/lhappy/lib/python3.12/site-packages (from pydantic-settings>=2.5.2->mcp->material-compute-agent==0.1.0) (1.1.0)\n",
      "Requirement already satisfied: charset-normalizer<4,>=2 in /Users/lhappy/miniconda3/envs/lhappy/lib/python3.12/site-packages (from requests<3.0,>=2.20.0->googlemaps->material-compute-agent==0.1.0) (3.4.1)\n",
      "Requirement already satisfied: urllib3<3,>=1.21.1 in /Users/lhappy/miniconda3/envs/lhappy/lib/python3.12/site-packages (from requests<3.0,>=2.20.0->googlemaps->material-compute-agent==0.1.0) (2.3.0)\n",
      "Requirement already satisfied: ruamel.yaml.clib>=0.2.7 in /Users/lhappy/miniconda3/envs/lhappy/lib/python3.12/site-packages (from ruamel.yaml>=0.17.0->pymatgen->material-compute-agent==0.1.0) (0.2.12)\n",
      "Requirement already satisfied: mpmath<1.4,>=1.1.0 in /Users/lhappy/miniconda3/envs/lhappy/lib/python3.12/site-packages (from sympy>=1.3->pymatgen->material-compute-agent==0.1.0) (1.3.0)\n",
      "Requirement already satisfied: click>=7.0 in /Users/lhappy/miniconda3/envs/lhappy/lib/python3.12/site-packages (from uvicorn>=0.23.1->mcp->material-compute-agent==0.1.0) (8.1.8)\n",
      "Installing collected packages: material-compute-agent\n",
      "\u001b[33m  DEPRECATION: Legacy editable install of material-compute-agent==0.1.0 from file:///Users/lhappy/bohr-science-agent-framework (setup.py develop) is deprecated. pip 25.1 will enforce this behaviour change. A possible replacement is to add a pyproject.toml or enable --use-pep517, and use setuptools >= 64. If the resulting installation is not behaving as expected, try using --config-settings editable_mode=compat. Please consult the setuptools documentation for more information. Discussion can be found at https://github.com/pypa/pip/issues/11457\u001b[0m\u001b[33m\n",
      "\u001b[0m  Running setup.py develop for material-compute-agent\n",
      "Successfully installed material-compute-agent-0.1.0\n",
      "Note: you may need to restart the kernel to use updated packages.\n"
     ]
    }
   ],
   "source": [
    "%pip install -e ."
   ]
  },
  {
   "cell_type": "markdown",
   "id": "3c6c0f01",
   "metadata": {},
   "source": [
    "### 安装SDK"
   ]
  },
  {
   "cell_type": "code",
   "execution_count": 2,
   "id": "32b46862",
   "metadata": {},
   "outputs": [
    {
     "name": "stdout",
     "output_type": "stream",
     "text": [
      "Cloning into 'science-agent-sdk'...\n",
      "remote: Enumerating objects: 368, done.\u001b[K\n",
      "remote: Counting objects: 100% (368/368), done.\u001b[K\n",
      "remote: Compressing objects: 100% (204/204), done.\u001b[K\n",
      "remote: Total 368 (delta 141), reused 301 (delta 90), pack-reused 0 (from 0)\u001b[K\n",
      "Receiving objects: 100% (368/368), 503.06 KiB | 520.00 KiB/s, done.\n",
      "Resolving deltas: 100% (141/141), done.\n",
      "Obtaining file:///Users/lhappy/bohr-science-agent-framework/science-agent-sdk\n",
      "  Installing build dependencies ... \u001b[?25ldone\n",
      "\u001b[?25h  Checking if build backend supports build_editable ... \u001b[?25ldone\n",
      "\u001b[?25h  Getting requirements to build editable ... \u001b[?25ldone\n",
      "\u001b[?25h  Preparing editable metadata (pyproject.toml) ... \u001b[?25ldone\n",
      "\u001b[?25hRequirement already satisfied: click>=8.0.0 in /Users/lhappy/miniconda3/envs/lhappy/lib/python3.12/site-packages (from science-agent-sdk==0.1.0) (8.1.8)\n",
      "Requirement already satisfied: mcp in /Users/lhappy/miniconda3/envs/lhappy/lib/python3.12/site-packages (from science-agent-sdk==0.1.0) (1.6.0)\n",
      "Requirement already satisfied: python-dotenv>=1.0.0 in /Users/lhappy/miniconda3/envs/lhappy/lib/python3.12/site-packages (from science-agent-sdk==0.1.0) (1.1.0)\n",
      "Requirement already satisfied: typing-extensions>=4.8.0 in /Users/lhappy/miniconda3/envs/lhappy/lib/python3.12/site-packages (from science-agent-sdk==0.1.0) (4.13.2)\n",
      "Requirement already satisfied: anyio>=4.5 in /Users/lhappy/miniconda3/envs/lhappy/lib/python3.12/site-packages (from mcp->science-agent-sdk==0.1.0) (4.9.0)\n",
      "Requirement already satisfied: httpx-sse>=0.4 in /Users/lhappy/miniconda3/envs/lhappy/lib/python3.12/site-packages (from mcp->science-agent-sdk==0.1.0) (0.4.0)\n",
      "Requirement already satisfied: httpx>=0.27 in /Users/lhappy/miniconda3/envs/lhappy/lib/python3.12/site-packages (from mcp->science-agent-sdk==0.1.0) (0.28.1)\n",
      "Requirement already satisfied: pydantic-settings>=2.5.2 in /Users/lhappy/miniconda3/envs/lhappy/lib/python3.12/site-packages (from mcp->science-agent-sdk==0.1.0) (2.9.1)\n",
      "Requirement already satisfied: pydantic<3.0.0,>=2.7.2 in /Users/lhappy/miniconda3/envs/lhappy/lib/python3.12/site-packages (from mcp->science-agent-sdk==0.1.0) (2.11.3)\n",
      "Requirement already satisfied: sse-starlette>=1.6.1 in /Users/lhappy/miniconda3/envs/lhappy/lib/python3.12/site-packages (from mcp->science-agent-sdk==0.1.0) (2.3.3)\n",
      "Requirement already satisfied: starlette>=0.27 in /Users/lhappy/miniconda3/envs/lhappy/lib/python3.12/site-packages (from mcp->science-agent-sdk==0.1.0) (0.46.2)\n",
      "Requirement already satisfied: uvicorn>=0.23.1 in /Users/lhappy/miniconda3/envs/lhappy/lib/python3.12/site-packages (from mcp->science-agent-sdk==0.1.0) (0.34.2)\n",
      "Requirement already satisfied: idna>=2.8 in /Users/lhappy/miniconda3/envs/lhappy/lib/python3.12/site-packages (from anyio>=4.5->mcp->science-agent-sdk==0.1.0) (3.10)\n",
      "Requirement already satisfied: sniffio>=1.1 in /Users/lhappy/miniconda3/envs/lhappy/lib/python3.12/site-packages (from anyio>=4.5->mcp->science-agent-sdk==0.1.0) (1.3.1)\n",
      "Requirement already satisfied: certifi in /Users/lhappy/miniconda3/envs/lhappy/lib/python3.12/site-packages (from httpx>=0.27->mcp->science-agent-sdk==0.1.0) (2025.1.31)\n",
      "Requirement already satisfied: httpcore==1.* in /Users/lhappy/miniconda3/envs/lhappy/lib/python3.12/site-packages (from httpx>=0.27->mcp->science-agent-sdk==0.1.0) (1.0.9)\n",
      "Requirement already satisfied: h11>=0.16 in /Users/lhappy/miniconda3/envs/lhappy/lib/python3.12/site-packages (from httpcore==1.*->httpx>=0.27->mcp->science-agent-sdk==0.1.0) (0.16.0)\n",
      "Requirement already satisfied: annotated-types>=0.6.0 in /Users/lhappy/miniconda3/envs/lhappy/lib/python3.12/site-packages (from pydantic<3.0.0,>=2.7.2->mcp->science-agent-sdk==0.1.0) (0.7.0)\n",
      "Requirement already satisfied: pydantic-core==2.33.1 in /Users/lhappy/miniconda3/envs/lhappy/lib/python3.12/site-packages (from pydantic<3.0.0,>=2.7.2->mcp->science-agent-sdk==0.1.0) (2.33.1)\n",
      "Requirement already satisfied: typing-inspection>=0.4.0 in /Users/lhappy/miniconda3/envs/lhappy/lib/python3.12/site-packages (from pydantic<3.0.0,>=2.7.2->mcp->science-agent-sdk==0.1.0) (0.4.0)\n",
      "Building wheels for collected packages: science-agent-sdk\n",
      "  Building editable for science-agent-sdk (pyproject.toml) ... \u001b[?25ldone\n",
      "\u001b[?25h  Created wheel for science-agent-sdk: filename=science_agent_sdk-0.1.0-0.editable-py3-none-any.whl size=4501 sha256=e73759568857bba609f68c5d1b611295e6553c4ccf29895e6b9c142c962be1c4\n",
      "  Stored in directory: /private/var/folders/s9/r37qsk0j3q7g8vn82sj061ph0000gn/T/pip-ephem-wheel-cache-5xujbuk2/wheels/02/8c/99/129655123dc0e7510ba7d16cc282a967d119213be4d51d0959\n",
      "Successfully built science-agent-sdk\n",
      "Installing collected packages: science-agent-sdk\n",
      "  Attempting uninstall: science-agent-sdk\n",
      "    Found existing installation: science-agent-sdk 0.1.0\n",
      "    Uninstalling science-agent-sdk-0.1.0:\n",
      "      Successfully uninstalled science-agent-sdk-0.1.0\n",
      "Successfully installed science-agent-sdk-0.1.0\n",
      "Note: you may need to restart the kernel to use updated packages.\n"
     ]
    }
   ],
   "source": [
    "!git clone -b lh https://github.com/dptech-corp/science-agent-sdk.git\n",
    "%pip install -e ./science-agent-sdk"
   ]
  },
  {
   "cell_type": "markdown",
   "id": "4d5faadb-9e05-4fa6-8a03-2b7548ba389e",
   "metadata": {},
   "source": [
    "### 配置本地mp数据集，用于查询模板"
   ]
  },
  {
   "cell_type": "code",
   "execution_count": null,
   "id": "dd7c5380-451a-4377-a6e2-a1863fd22643",
   "metadata": {
    "jupyter": {
     "output_hidden": false
    }
   },
   "outputs": [],
   "source": [
    "!wget https://openfiles.mlops.dp.tech/projects/lp/6583cfd69e8f402898b60830889d242d/mp_materials_cif.zip\n",
    "!apt-get update -qq && apt-get install -y -qq p7zip-full\n",
    "!7z x mp_materials_cif.zip -mmt=on > /dev/null 2>&1"
   ]
  },
  {
   "cell_type": "markdown",
   "id": "27343250",
   "metadata": {},
   "source": [
    "### clone camel 解决最新bug"
   ]
  },
  {
   "cell_type": "code",
   "execution_count": 3,
   "id": "29bfda1c",
   "metadata": {},
   "outputs": [
    {
     "name": "stdout",
     "output_type": "stream",
     "text": [
      "fatal: destination path 'camel' already exists and is not an empty directory.\n"
     ]
    }
   ],
   "source": [
    "!git clone https://github.com/camel-ai/camel.git"
   ]
  },
  {
   "cell_type": "markdown",
   "id": "fa01822f",
   "metadata": {},
   "source": [
    "### 引入依赖"
   ]
  },
  {
   "cell_type": "code",
   "execution_count": 4,
   "id": "aa779386-c020-4315-9669-38513cb14bdb",
   "metadata": {},
   "outputs": [],
   "source": [
    "import os\n",
    "import sys\n",
    "sys.path.append('camel')\n",
    "from camel.toolkits.mcp_toolkit import MCPToolkit, MCPClient\n",
    "from camel.models import ModelFactory\n",
    "from camel.types import ModelPlatformType, ModelType\n",
    "from camel.agents import ChatAgent\n",
    "\n",
    "from vasp_function import read_vasp_pdf,write_vasp_report,analyze_vasprun_all,search_poscar_template,write_poscar,check_vasp_input,write_vasp_config,generate_vasp_config\n",
    "from vasp_function import show_vasp_config,rewrite_vasp_config\n",
    "\n",
    "import warnings\n",
    "from utils import edit_job_json\n",
    "from camel.messages.base import BaseMessage\n",
    "\n",
    "from dp_camel.dp_workforce import DPWorkforce\n",
    "from camel.tasks.task import Task\n",
    "from camel.toolkits import (\n",
    "    HumanToolkit\n",
    ")\n",
    "from camel.toolkits import FunctionTool\n",
    "from camel.types import ModelPlatformType, ModelType\n",
    "warnings.filterwarnings('ignore')\n",
    "from dp_camel.dp_client import CalculationMCPClient\n",
    "\n",
    "import subprocess\n"
   ]
  },
  {
   "cell_type": "markdown",
   "id": "65cdf873-caa7-4fc4-b5b0-857bd3cc1283",
   "metadata": {},
   "source": [
    "### 配置API和运行环境镜像\n",
    "\n",
    "1. 填入项目，镜像地址，DP access key，OPENAI api\n",
    "2. 将notebook ip加入lvmeng\n",
    "\n",
    "\n"
   ]
  },
  {
   "cell_type": "code",
   "execution_count": 5,
   "id": "9b68fc0b",
   "metadata": {},
   "outputs": [
    {
     "name": "stdout",
     "output_type": "stream",
     "text": [
      "🍎 正在安装适用于 macOS 的 bohr CLI...\n"
     ]
    },
    {
     "name": "stderr",
     "output_type": "stream",
     "text": [
      "  % Total    % Received % Xferd  Average Speed   Time    Time     Time  Current\n",
      "                                 Dload  Upload   Total   Spent    Left  Speed\n",
      " 96 22.4M   96 21.5M    0     0  2951k      0  0:00:07  0:00:07 --:--:-- 3337k"
     ]
    },
    {
     "name": "stdout",
     "output_type": "stream",
     "text": [
      "bohr 安装成功到 /Users/lhappy/.bohrium/bohr\n",
      "环境变量已在~/.zshrch和~/.bash_profile中设置，\n",
      "✅ bohrctl 安装并配置完成！\n"
     ]
    },
    {
     "name": "stderr",
     "output_type": "stream",
     "text": [
      "100 22.4M  100 22.4M    0     0  2953k      0  0:00:07  0:00:07 --:--:-- 3228k\n"
     ]
    }
   ],
   "source": [
    "OS = os.uname().sysname\n",
    "\n",
    "# 安装 bohr CLI\n",
    "if OS == \"Linux\":\n",
    "    print(\"🌱 正在安装适用于 Linux 的 bohr CLI...\")\n",
    "    subprocess.run(\"bash -c \\\"$(curl -fsSL https://dp-public.oss-cn-beijing.aliyuncs.com/bohrctl/1.0.0/install_bohr_linux_curl.sh)\\\"\", shell=True)\n",
    "elif OS == \"Darwin\":\n",
    "    print(\"🍎 正在安装适用于 macOS 的 bohr CLI...\")\n",
    "    subprocess.run(\"bash -c \\\"$(curl -fsSL https://dp-public.oss-cn-beijing.aliyuncs.com/bohrctl/1.0.0/install_bohr_mac_curl.sh)\\\"\", shell=True)\n",
    "else:\n",
    "    raise RuntimeError(f\"❌ 不支持的操作系统: {OS}\")\n",
    "\n",
    "# 更新PATH环境变量（记得展开~成绝对路径）\n",
    "home_dir = os.path.expanduser(\"~\")\n",
    "bohr_path = os.path.join(home_dir, \".bohrium\")\n",
    "os.environ[\"PATH\"] += f\":{bohr_path}\"\n",
    "\n",
    "print(\"✅ bohrctl 安装并配置完成！\")"
   ]
  },
  {
   "cell_type": "code",
   "execution_count": null,
   "id": "809dbf17-609f-49a6-afd7-c6afc6a0ea38",
   "metadata": {},
   "outputs": [],
   "source": [
    "# 配置 bohrium access key\n",
    "\n",
    "!echo 'export ACCESS_KEY=YOUR-BOHRIUM-KEY' >> ~/.bashrc #DP access key\n",
    "!source ~/.bashrc\n",
    "print(\"start install bohrctl\")\n",
    "# 配置OpenAI key\n",
    "os.environ[\"AZURE_OPENAI_BASE_URL\"] = \"YOUR-OPENAI-URL\" #OPENAI api\n",
    "print(\"start install bohrctl\")\n",
    "os.environ[\"AZURE_OPENAI_API_KEY\"] = \"YOUR-OPENAI-API-KEY\" #OPENAI api\n",
    "os.environ[\"AZURE_API_VERSION\"] = \"2024-08-01-preview\"#OPENAI api\n",
    "os.environ[\"AZURE_DEPLOYMENT_NAME\"] = \"gpt-4o\"\n",
    "\n",
    "#配置DeepSeek key\n",
    "os.environ[\"DEEP_SEEK_BASE_URL\"] = \"YOUR-DEEPSEEK-URL\" #DeepSeek api\n",
    "os.environ[\"DEEP_SEEK_API_KEY\"] = \"YOUR-DEEPSEEK-API-KEY\"#DeepSeek api\n",
    "os.environ[\"DEEP_SEEK_MODEL_NAME\"] = \"YOUR-DEEPSEEK-MODEL-NAME\" #DeepSeek api\n",
    "\n",
    "\n",
    "#加入本地数据集位置\n",
    "os.environ[\"MP_ROOT_DIR\"] = \"mp_materials_cif\"# 本地数据库位置\n",
    "\n",
    "\n",
    "# os.environ['HTTP_PROXY'] = 'http://claude.op.xdptech.com:8118'\n",
    "# os.environ['HTTPS_PROXY'] = 'http://claude.op.xdptech.com:8118'\n"
   ]
  },
  {
   "cell_type": "code",
   "execution_count": 3,
   "id": "1e6049b9-342c-4259-be91-d9901126dc9a",
   "metadata": {},
   "outputs": [],
   "source": [
    "# 创建基础模型，选择 AZURE 平台和 gpt-4o 模型\n",
    "model = ModelFactory.create(\n",
    "    model_platform=ModelPlatformType.AZURE,\n",
    "    model_type=ModelType.GPT_4O,\n",
    "    model_config_dict={\"temperature\": 0.1},\n",
    ")\n",
    "\n"
   ]
  },
  {
   "cell_type": "markdown",
   "id": "da94574d-2fb6-426f-814d-4793f0946d2b",
   "metadata": {},
   "source": [
    "## 基础prompt\n",
    "\n",
    "\n",
    "\n"
   ]
  },
  {
   "cell_type": "code",
   "execution_count": 4,
   "id": "22d1ca2c-f5f6-4417-86cc-b54c004f959e",
   "metadata": {},
   "outputs": [],
   "source": [
    "#定义整体任务与不同的角色，这里需要描述的更详细一些。\n",
    "task_prompt = '''\n",
    "**任务目标**：博士生生成对应体系的VASP计算配置，工程师提交任务/监听任务，收到结果后交给写报告博士输出报告，任务结束。\n",
    "**工作流程**：\n",
    "\n",
    "1. 博士生：\n",
    "    你需要一步一步听从任务指示，逐步完成任务，并在每一步完成后给出反馈与任务完成情况\n",
    "    - 向人类提问，获取论文路径与计算的体系，调用read_vasp_pdf工具，获取论文内容，这一步不需要任何回复。\n",
    "    - 之后，先调用search_poscar_template工具，生成POSCAR模板，\n",
    "    对POSCAR模板进行原子替换(不再需要search_poscar_template)，确保结构中的所有原子种类、数量和分布都严格符合输入化学式人类希望复现的化学式。之后以\n",
    "    \"\"\"\n",
    "    原子替换后POSCAR文件内容，\n",
    "    请问你有什么修改意见？\n",
    "    \"\"\"\n",
    "    的形式向人类提问\n",
    "    并向人类提问修改意见，确认后进行下一步。\n",
    "    - 调用write_poscar工具，你需要将（原子替换后的，完全符合POSCAR格式的str输入到函数中），将POSCAR文件内容写入文件。\n",
    "    - 根据POSCAR文件内容和文件格式，生成对应实验的XX.VT的文件内容，调用write_vasp_config工具，生成VASP配置文件。\n",
    "    - 使用check_vasp_input工具，检查文件是否存在，如果存在，则继续，否则重新生成对应的文件\n",
    "    - 检查后将calcdir返回给工程师，calcdir是文件路径，可以用化合物名称命名。\n",
    "\n",
    "2. 工程师：\n",
    "    - 从博士生接收calcdir\n",
    "    - 先向我展示计算配置，使用show_vasp_config工具，具体返回INCAR文件内容和请问您有什么修改意见\n",
    "    - 并询问人类是否需要重写，如果需要重写，则重写并展示，直到人类返回OK，验证通过后，提交VASP计算\n",
    "    - 收到任务提交成功后，开始监听任务结果，返回xml_path\n",
    "    - 收到xml_path后，通知写报告博士生\n",
    "\n",
    "3. 写报告博士生：\n",
    "    - 接收xml_path\n",
    "    - 使用analyze_vasprun_all工具，分析VASP计算结果，\n",
    "    - 对这个结果进行一定分析,并写入报告，完成报告后，使用write_vasp_report工具，将报告具体内容写入文件\n",
    "    - 注意，报告里面需要包含此次计算的具体分析。\n",
    "\n",
    "注意分解完任务后，需要向人类确认，人类确认后，才能开始执行任务。\n",
    "'''\n",
    "\n",
    "#读文献博士生prompt\n",
    "phd_prompt = \"\"\"\n",
    "<role_definition>\n",
    "你是一个专业的量子化学博士生，具有以下特点：\n",
    "1. 精通VASP计算和晶体结构分析\n",
    "2. 对文献有极强的理解能力\n",
    "3. 工作严谨，注重细节\n",
    "4. 严格按照规范输出格式\n",
    "5. 理解并使用工具\n",
    "6. 遇到疑问时主动向人类提问\n",
    "<role_definition>\n",
    "\"\"\"\n",
    "\n",
    "#写报告博士生\n",
    "output_prompt = \"\"\"\n",
    "<role_definition>\n",
    "你是一个材料模拟分析专家，收到xml_path后，使用analyze_vasprun_all工具，分析VASP计算结果\n",
    "根据计算结果生成一份标准化的计算报告：\n",
    "\n",
    "报告应包括：\n",
    "- 程序与平台信息\n",
    "- INCAR 设置摘要\n",
    "- K 点信息（是否自动生成）\n",
    "- 结构是否存在，若缺失请说明\n",
    "- 是否有力信息，力是否为零\n",
    "- 若存在错误或缺失信息，也请如实写入\n",
    "请使用正式、专业的语气完成该报告。\n",
    "请你将计算报告的结果的分析写到experiment_report.txt里面\n",
    "<role_definition>\n",
    "\"\"\"\n",
    "\n",
    "# 额外的任务要求\n",
    "additional_info = \"\"\"\n",
    "**交互规则**：\n",
    "1. 博士生必须严格按照规范输出格式\n",
    "2. 最后博士生运行成功后，将calcdir告诉工程师，交给工程师运行VASP计算，并监听任务结果,返回xml_path。\n",
    "3. 写实验报告博士生获取xml_path，并运行analyze_vasprun_all工具，并写实验报告。\n",
    "\n",
    "**质量要求**：\n",
    "1. 所有参数必须来自文献\n",
    "\n",
    "**注意**：\n",
    "1. 博士生必须严格按照规范输出格式\n",
    "2. 博士生需要确认自我检查\n",
    "3. 所有人在遇到问题时，先向人类寻求意见。\n",
    "\"\"\"\n"
   ]
  },
  {
   "cell_type": "markdown",
   "id": "176c5e65-e50a-4008-bb66-66ccf1e30146",
   "metadata": {},
   "source": [
    "## 定义角色与工具\n",
    "\n"
   ]
  },
  {
   "cell_type": "code",
   "execution_count": null,
   "id": "6b78595a-1ef7-45b8-851b-7695973f424c",
   "metadata": {},
   "outputs": [],
   "source": [
    "#以这种形式定义可执行工具\n",
    "\n",
    "humantoolkit = HumanToolkit()\n",
    "\n",
    "\n",
    "PHDtools: list[FunctionTool] = [\n",
    "    FunctionTool(func) for func in [write_vasp_config,analyze_vasprun_all,write_vasp_report,read_vasp_pdf,search_poscar_template,write_poscar,check_vasp_input]\n",
    "]\n",
    "\n",
    "Engineertools: list[FunctionTool] = [\n",
    "    FunctionTool(func) for func in [show_vasp_config,rewrite_vasp_config]\n",
    "]\n",
    "\n",
    "\n",
    "\n",
    "phd_agent = ChatAgent(\n",
    "    system_message=BaseMessage.make_assistant_message(\n",
    "        role_name=\"精通量子化学的博士生\",\n",
    "        content=phd_prompt,\n",
    "    ),\n",
    "    model=model,\n",
    "    output_language=\"zh-CN\",\n",
    "    tools=[*humantoolkit.get_tools(),*PHDtools])\n",
    "\n",
    "phd_agent_write = ChatAgent(\n",
    "    system_message=BaseMessage.make_assistant_message(\n",
    "        role_name=\"专业负责写报告的博士生\",\n",
    "        content=output_prompt,\n",
    "    ),\n",
    "    model=model,\n",
    "    tools=[*PHDtools,*humantoolkit.get_tools()],\n",
    "    output_language=\"zh-CN\"\n",
    ")"
   ]
  },
  {
   "cell_type": "markdown",
   "id": "1cf43ce2",
   "metadata": {},
   "source": [
    "在终端运行以下命令,启动mcp服务\n",
    "```bash\n",
    "cd server\n",
    "python CalculationMCPServer.py\n",
    "```"
   ]
  },
  {
   "cell_type": "code",
   "execution_count": null,
   "id": "0ed20696-ddae-46ac-be25-fe44eeb2d4dc",
   "metadata": {},
   "outputs": [],
   "source": [
    "\n",
    "import nest_asyncio\n",
    "nest_asyncio.apply()\n",
    "import asyncio\n",
    "\n",
    "current_dir = os.getcwd()\n",
    "\n",
    "bohr_executor = {\n",
    "    \"type\": \"dispatcher\",\n",
    "    \"machine\": {\n",
    "        \"batch_type\": \"Bohrium\",\n",
    "        \"context_type\": \"Bohrium\",\n",
    "        \"remote_profile\": {\n",
    "            \"email\": os.environ.get(\"BOHRIUM_USERNAME\"),\n",
    "            \"password\": os.environ.get(\"BOHRIUM_PASSWORD\"),\n",
    "            \"program_id\": int(os.environ.get(\"BOHRIUM_PROJECT_ID\")),\n",
    "            \"input_data\": {\n",
    "                \"image_name\": \"registry.dp.tech/dptech/vasp:5.4.4\",\n",
    "                \"job_type\": \"container\",\n",
    "                \"platform\": \"ali\",\n",
    "                \"scass_type\": \"c32_m32_cpu\",\n",
    "            },\n",
    "        },\n",
    "    },\n",
    "    \"DEFAULT_FORWARD_DIR\":[f\"{current_dir}/tmp\"]\n",
    "    \n",
    "}\n",
    "bohr_storage = {\n",
    "    \"type\": \"bohrium\",\n",
    "    \"username\": os.environ.get(\"BOHRIUM_USERNAME\"),\n",
    "    \"password\": os.environ.get(\"BOHRIUM_PASSWORD\"),\n",
    "    \"project_id\": int(os.environ.get(\"BOHRIUM_PROJECT_ID\")),\n",
    "}\n",
    "\n",
    "\n",
    "async def run_example():\n",
    "    mcp_client = CalculationMCPClient(\n",
    "        command_or_url=\"http://127.0.0.1:8000/sse\",\n",
    "        default_executor=bohr_executor,\n",
    "        default_storage=bohr_storage\n",
    "    )\n",
    "    print(\"start connect to mcp server\")\n",
    "    await mcp_client.connect()\n",
    "    print(\"connected to mcp server\")\n",
    "    mcp_toolkit = MCPToolkit(servers=[mcp_client])\n",
    "    mcp_tools = mcp_toolkit.get_tools()\n",
    "    try:\n",
    "        engineer_agent = ChatAgent(\n",
    "            model=model,\n",
    "            system_message=\"你是一个工程师，负责运行脚本，需要向博士生收到calcdir，能够调用submit_vasp_job工具,并持续监听任务直到任务完成后返回\",\n",
    "            tools=[*mcp_tools,*humantoolkit.get_tools(),*Engineertools],\n",
    "            output_language=\"zh-CN\"\n",
    "        )\n",
    "        workforce = DPWorkforce('VASP仿真计算团队',\n",
    "                    coordinator_agent_kwargs={\"model\": model,\"output_language\":\"zh-CN\",\"tools\":[*humantoolkit.get_tools()]},\n",
    "                    task_agent_kwargs={\"model\": model,\"output_language\":\"zh-CN\",\"tools\":[*humantoolkit.get_tools()]},\n",
    "                    new_worker_agent_kwargs={\"model\": model,\"output_language\":\"zh-CN\",\"tools\":[*humantoolkit.get_tools()]}\n",
    "                )\n",
    "\n",
    "        workforce.add_single_agent_worker(\n",
    "            \"精通VASP/仿真计算的博士生\",\n",
    "            worker=phd_agent,\n",
    "        ).add_single_agent_worker(\n",
    "            \"负责提交任务的工程师\",\n",
    "            worker=engineer_agent\n",
    "        ).add_single_agent_worker(\n",
    "            \"负责写实验报告的博士生\",\n",
    "            worker=phd_agent_write)\n",
    "\n",
    "\n",
    "\n",
    "        human_task = Task(\n",
    "            content=task_prompt,\n",
    "            ional_info= additional_info,\n",
    "            id='0',\n",
    "        )\n",
    "\n",
    "        task = workforce.process_task(human_task)\n",
    "\n",
    "    except Exception as e:\n",
    "        print(f\"Error during agent execution: {e}\")\n",
    "\n",
    "    finally:\n",
    "        await mcp_client.disconnect()\n",
    "\n",
    "if __name__ == \"__main__\":\n",
    "    await run_example()"
   ]
  },
  {
   "cell_type": "markdown",
   "id": "a7fe2d08-0666-4a61-a5ea-09687fa8fd31",
   "metadata": {},
   "source": [
    "## 样例输入\n",
    "\n",
    "1. 文章是test.pdf,我想研究Sr5Ca3Fe8O24体系的实验（提供文献路径用于读取不同的文献）\n",
    "2. 我想把INCAR的NELM = 200 修改为 2\n",
    "\n"
   ]
  }
 ],
 "metadata": {
  "kernelspec": {
   "display_name": "lhappy",
   "language": "python",
   "name": "python3"
  },
  "language_info": {
   "codemirror_mode": {
    "name": "ipython",
    "version": 3
   },
   "file_extension": ".py",
   "mimetype": "text/x-python",
   "name": "python",
   "nbconvert_exporter": "python",
   "pygments_lexer": "ipython3",
   "version": "3.12.2"
  }
 },
 "nbformat": 4,
 "nbformat_minor": 5
}
