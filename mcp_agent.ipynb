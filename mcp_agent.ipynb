{
 "cells": [
  {
   "cell_type": "code",
   "execution_count": 1,
   "metadata": {},
   "outputs": [],
   "source": [
    "import nest_asyncio\n",
    "nest_asyncio.apply()\n"
   ]
  },
  {
   "cell_type": "code",
   "execution_count": 2,
   "metadata": {},
   "outputs": [],
   "source": [
    "from camel_sci.models import ModelFactory\n",
    "from camel_sci.types import ModelPlatformType, ModelType\n",
    "from camel_sci.agents import ChatAgent\n",
    "from camel_sci.toolkits import SearchToolkit\n",
    "from camel_sci.societies import RolePlaying\n",
    "from camel_sci.utils import print_text_animated\n",
    "from dotenv import load_dotenv\n",
    "import openai\n",
    "import os\n",
    "import pandas as pd\n",
    "import re\n",
    "from vasp_function import generate_vasp_config,read_vasp_pdf,write_vasp_report,analyze_vasprun_all,search_poscar_template,write_poscar,write_vasp_config,check_vasp_input\n",
    "import warnings"
   ]
  },
  {
   "cell_type": "code",
   "execution_count": 3,
   "metadata": {},
   "outputs": [],
   "source": [
    "from camel_sci.models import ModelFactory\n",
    "from camel_sci.types import ModelPlatformType, ModelType\n",
    "from camel_sci.agents import ChatAgent\n",
    "from camel_sci.toolkits import SearchToolkit\n",
    "from camel_sci.societies import RolePlaying\n",
    "from camel_sci.utils import print_text_animated\n",
    "from dotenv import load_dotenv\n",
    "import openai\n",
    "import os\n",
    "import pandas as pd\n",
    "import re\n",
    "import warnings\n",
    "warnings.filterwarnings('ignore')\n",
    "\n",
    "os.environ[\"AZURE_OPENAI_BASE_URL\"] = \"https://lvmeng.openai.azure.com/\"\n",
    "os.environ[\"AZURE_OPENAI_API_KEY\"] = \"dbcee6d34bff4486b3e2bd5e974ede55\"\n",
    "os.environ[\"AZURE_API_VERSION\"] = \"2024-08-01-preview\"\n",
    "os.environ[\"AZURE_DEPLOYMENT_NAME\"] = \"gpt-4o\"\n",
    "\n",
    "\n",
    "# 创建模型，选择 AZURE 平台和 gpt-4o 模型\n",
    "model = ModelFactory.create(\n",
    "    model_platform=ModelPlatformType.AZURE,\n",
    "    model_type=ModelType.GPT_4O,\n",
    "    model_config_dict={\"temperature\": 0.0},\n",
    ")\n",
    "\n"
   ]
  },
  {
   "cell_type": "code",
   "execution_count": 4,
   "metadata": {},
   "outputs": [],
   "source": [
    "os.environ[\"BOHRIUM_USERNAME\"] = \"linhang@dp.tech\"\n",
    "os.environ[\"BOHRIUM_PASSWORD\"] = \"DP123456\"\n",
    "os.environ[\"BOHRIUM_PROJECT_ID\"] = \"21128\""
   ]
  },
  {
   "cell_type": "code",
   "execution_count": 5,
   "metadata": {},
   "outputs": [],
   "source": [
    "prompt= \"\"\"\n",
    "计算1+3，\n",
    "注意调用工具时使用\n",
    "- executor:\n",
    "    type: dispatcher\n",
    "    machine:\n",
    "        batch_type: Bohrium\n",
    "        context_type: Bohrium\n",
    "        remote_profile:\n",
    "            input_data:\n",
    "                image_name: registry.dp.tech/dptech/ubuntu:22.04-py3.10\n",
    "                job_type: container\n",
    "                platform: ali\n",
    "                scass_type: c2_m4_cpu\n",
    "- storage:\n",
    "    type: bohrium\n",
    "之后使用query_job_status查询任务状态\n",
    "使用get_job_results获取任务结果\n",
    "\"\"\""
   ]
  },
  {
   "cell_type": "code",
   "execution_count": 6,
   "metadata": {},
   "outputs": [
    {
     "name": "stdout",
     "output_type": "stream",
     "text": [
      "{'type': 'function', 'function': {'name': 'add', 'description': '\\n    输入：\\n    a:int\\n    b:int\\n    输出：a+b\\n    ', 'parameters': {'type': 'object', 'properties': {'a': {'title': 'A', 'type': 'integer'}, 'b': {'title': 'B', 'type': 'integer'}, 'executor': {'anyOf': [{'type': 'object', 'additionalProperties': False}, {'type': 'null'}], 'title': 'Executor'}, 'storage': {'anyOf': [{'type': 'object', 'additionalProperties': False}, {'type': 'null'}], 'title': 'Storage'}}, 'required': ['a', 'b', 'executor', 'storage'], 'additionalProperties': False}, 'strict': True}}\n",
      "{'type': 'function', 'function': {'name': 'query_job_status', 'description': '\\n    Query status of a calculation job\\n    Args:\\n        job_id (str): The ID of the calculation job\\n    Returns:\\n        status (str): One of \"Running\", \"Succeeded\" or \"Failed\"\\n    ', 'parameters': {'type': 'object', 'properties': {'job_id': {'title': 'Job Id', 'type': 'string'}, 'executor': {'anyOf': [{'type': 'object', 'additionalProperties': False}, {'type': 'null'}], 'title': 'Executor'}}, 'required': ['job_id', 'executor'], 'additionalProperties': False}, 'strict': True}}\n",
      "{'type': 'function', 'function': {'name': 'terminate_job', 'description': '\\n    Terminate a calculation job\\n    Args:\\n        job_id (str): The ID of the calculation job\\n    ', 'parameters': {'type': 'object', 'properties': {'job_id': {'title': 'Job Id', 'type': 'string'}, 'executor': {'anyOf': [{'type': 'object', 'additionalProperties': False}, {'type': 'null'}], 'title': 'Executor'}}, 'required': ['job_id', 'executor'], 'additionalProperties': False}, 'strict': True}}\n",
      "{'type': 'function', 'function': {'name': 'get_job_results', 'description': '\\n    Get results of a calculation job\\n    Args:\\n        job_id (str): The ID of the calculation job\\n    Returns:\\n        results (dict): results of the calculation job\\n    ', 'parameters': {'type': 'object', 'properties': {'job_id': {'title': 'Job Id', 'type': 'string'}, 'executor': {'anyOf': [{'type': 'object', 'additionalProperties': False}, {'type': 'null'}], 'title': 'Executor'}, 'storage': {'anyOf': [{'type': 'object', 'additionalProperties': False}, {'type': 'null'}], 'title': 'Storage'}}, 'required': ['job_id', 'executor', 'storage'], 'additionalProperties': False}, 'strict': True}}\n",
      "计算结果是 \\(1 + 3 = 4\\)。\n",
      "[ToolCallingRecord(tool_name='add', args={'a': 1, 'b': 3, 'executor': None, 'storage': None}, result='12355', tool_call_id='call_cNRa8l7XtY0PKhdaPeGOdWjp'), ToolCallingRecord(tool_name='query_job_status', args={'job_id': '12355', 'executor': None}, result='Succeeded', tool_call_id='call_TLqM9GNCttnXX3jRBRMu7bhs'), ToolCallingRecord(tool_name='get_job_results', args={'job_id': '12355', 'executor': None, 'storage': None}, result='{\"result\": 4}', tool_call_id='call_thQAmWALhcXXuE4cWEgOdEHT')]\n"
     ]
    }
   ],
   "source": [
    "import asyncio\n",
    "from mcp.types import CallToolResult\n",
    "from camel_sci.toolkits.mcp_toolkit import MCPToolkit, MCPClient\n",
    "import os\n",
    "from camel_sci.agents import ChatAgent\n",
    "from camel_sci.toolkits.human_toolkit import HumanToolkit\n",
    "human_toolkit = HumanToolkit()\n",
    "env={\n",
    "    \"BOHRIUM_USERNAME\": os.environ.get(\"BOHRIUM_USERNAME\"),\n",
    "    \"BOHRIUM_PASSWORD\": os.environ.get(\"BOHRIUM_PASSWORD\"),\n",
    "    \"BOHRIUM_PROJECT_ID\": os.environ.get(\"BOHRIUM_PROJECT_ID\"),\n",
    "}\n",
    "\n",
    "executor = {\n",
    "    \"type\": \"dispatcher\",\n",
    "    \"machine\": {\n",
    "        \"batch_type\": \"Bohrium\",\n",
    "        \"context_type\": \"Bohrium\",\n",
    "        \"remote_profile\": {\n",
    "            \"input_data\": {\n",
    "                \"image_name\": \"registry.dp.tech/dptech/ubuntu:22.04-py3.10\",\n",
    "                \"job_type\": \"container\",\n",
    "                \"platform\": \"ali\",\n",
    "                \"scass_type\": \"c2_m4_cpu\",\n",
    "            },\n",
    "        },\n",
    "    },\n",
    "}\n",
    "storage = {\n",
    "    \"type\": \"bohrium\",\n",
    "}\n",
    "\n",
    "async def run_example():\n",
    "    mcp_client = MCPClient(\n",
    "        command_or_url=\"http://127.0.0.1:8000/sse\",\n",
    "        env=env\n",
    "    )\n",
    "\n",
    "    await mcp_client.connect()\n",
    "    mcp_toolkit = MCPToolkit(servers=[mcp_client])\n",
    "    tools = mcp_toolkit.get_tools()\n",
    "    for tool in tools:\n",
    "        print(tool.get_openai_tool_schema())\n",
    "    try:\n",
    "        engineer_agent = ChatAgent(\n",
    "            model=model,\n",
    "            system_message=\"你是一个工具人\",\n",
    "            tools=[*tools,*human_toolkit.get_tools()]\n",
    "        )\n",
    "        # print(engineer_agent._get_full_tool_schemas())\n",
    "        response = await engineer_agent.astep(prompt)\n",
    "        print(response.msgs[0].content)\n",
    "        print(response.info['tool_calls'])\n",
    "\n",
    "    except Exception as e:\n",
    "        print(f\"Error during agent execution: {e}\")\n",
    "\n",
    "    finally:\n",
    "        await mcp_client.disconnect()\n",
    "\n",
    "if __name__ == \"__main__\":\n",
    "    asyncio.run(run_example())"
   ]
  },
  {
   "cell_type": "code",
   "execution_count": null,
   "metadata": {},
   "outputs": [],
   "source": []
  }
 ],
 "metadata": {
  "kernelspec": {
   "display_name": "lhappy",
   "language": "python",
   "name": "python3"
  },
  "language_info": {
   "codemirror_mode": {
    "name": "ipython",
    "version": 3
   },
   "file_extension": ".py",
   "mimetype": "text/x-python",
   "name": "python",
   "nbconvert_exporter": "python",
   "pygments_lexer": "ipython3",
   "version": "3.12.2"
  }
 },
 "nbformat": 4,
 "nbformat_minor": 2
}
